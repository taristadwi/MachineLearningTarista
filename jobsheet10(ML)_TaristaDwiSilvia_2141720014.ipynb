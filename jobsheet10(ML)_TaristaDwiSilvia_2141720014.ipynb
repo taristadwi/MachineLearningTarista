{
  "cells": [
    {
      "cell_type": "markdown",
      "metadata": {
        "id": "view-in-github",
        "colab_type": "text"
      },
      "source": [
        "<a href=\"https://colab.research.google.com/github/taristadwi/MachineLearningTarista/blob/main/jobsheet10(ML)_TaristaDwiSilvia_2141720014.ipynb\" target=\"_parent\"><img src=\"https://colab.research.google.com/assets/colab-badge.svg\" alt=\"Open In Colab\"/></a>"
      ]
    },
    {
      "cell_type": "markdown",
      "source": [
        "# **NAMA:Tarista Dwi Silvia**\n",
        "\n",
        "# **NIM:2141720014**\n",
        "\n",
        "# **KELAS:TI-3A**\n",
        "\n",
        "---\n",
        "\n",
        "\n",
        "\n",
        "---\n",
        "\n"
      ],
      "metadata": {
        "id": "GFTGOkrrWC3E"
      }
    },
    {
      "cell_type": "markdown",
      "metadata": {
        "id": "MwkjoD3tZmRa"
      },
      "source": [
        "# **PRAKTIKUM 1**"
      ]
    },
    {
      "cell_type": "markdown",
      "metadata": {
        "id": "NDaUvX-VZojW"
      },
      "source": [
        "# RNN untuk Analisis Sentimen"
      ]
    },
    {
      "cell_type": "markdown",
      "metadata": {
        "id": "K_Mocy0BZrfc"
      },
      "source": [
        "###Setup"
      ]
    },
    {
      "cell_type": "markdown",
      "source": [
        "Impor matplotlib dan buat fungsi pembantu untuk memplot grafik:"
      ],
      "metadata": {
        "id": "dhvyGXf7IsQI"
      }
    },
    {
      "cell_type": "code",
      "execution_count": null,
      "metadata": {
        "id": "TKVC664wY6k6"
      },
      "outputs": [],
      "source": [
        "import numpy as np\n",
        "import tensorflow_datasets as tfds\n",
        "import tensorflow as tf\n",
        "\n",
        "tfds.disable_progress_bar()"
      ]
    },
    {
      "cell_type": "code",
      "execution_count": null,
      "metadata": {
        "id": "uyaTa0UAZuyt"
      },
      "outputs": [],
      "source": [
        "import matplotlib.pyplot as plt\n",
        "\n",
        "def plot_graphs(history, metric):\n",
        "  plt.plot(history.history[metric])\n",
        "  plt.plot(history.history['val_'+metric], '')\n",
        "  plt.xlabel(\"Epochs\")\n",
        "  plt.ylabel(metric)\n",
        "  plt.legend([metric, 'val_'+metric])"
      ]
    },
    {
      "cell_type": "markdown",
      "metadata": {
        "id": "dP5EJsSIaAog"
      },
      "source": [
        "###Setup input pipeline\n",
        "\n",
        "Dataset ulasan film IMDB adalah kumpulan data klasifikasi biner—semua ulasan memiliki sentimen positif atau negatif.\n",
        "Download dataset menggunakan **TFDS**. Lihat **loading text tutorial** jika ingin me load data secara manual"
      ]
    },
    {
      "cell_type": "code",
      "execution_count": null,
      "metadata": {
        "colab": {
          "base_uri": "https://localhost:8080/"
        },
        "id": "65p_n1m0aEBH",
        "outputId": "7c2b8eb5-4c58-43ea-e2ab-ceaa72738c26"
      },
      "outputs": [
        {
          "output_type": "execute_result",
          "data": {
            "text/plain": [
              "(TensorSpec(shape=(), dtype=tf.string, name=None),\n",
              " TensorSpec(shape=(), dtype=tf.int64, name=None))"
            ]
          },
          "metadata": {},
          "execution_count": 107
        }
      ],
      "source": [
        "dataset, info = tfds.load('imdb_reviews', with_info=True,\n",
        "                          as_supervised=True)\n",
        "train_dataset, test_dataset = dataset['train'], dataset['test']\n",
        "\n",
        "train_dataset.element_spec"
      ]
    },
    {
      "cell_type": "markdown",
      "source": [
        "Awalnya ini mengembalikan dataset (teks, pasangan label)"
      ],
      "metadata": {
        "id": "5ISwRGbbWl_0"
      }
    },
    {
      "cell_type": "code",
      "execution_count": null,
      "metadata": {
        "colab": {
          "base_uri": "https://localhost:8080/"
        },
        "id": "GwbH8q5sak9u",
        "outputId": "1a73ce7f-31fd-491d-b19e-215e793bc416"
      },
      "outputs": [
        {
          "output_type": "stream",
          "name": "stdout",
          "text": [
            "text:  b\"This was an absolutely terrible movie. Don't be lured in by Christopher Walken or Michael Ironside. Both are great actors, but this must simply be their worst role in history. Even their great acting could not redeem this movie's ridiculous storyline. This movie is an early nineties US propaganda piece. The most pathetic scenes were those when the Columbian rebels were making their cases for revolutions. Maria Conchita Alonso appeared phony, and her pseudo-love affair with Walken was nothing but a pathetic emotional plug in a movie that was devoid of any real meaning. I am disappointed that there are movies like this, ruining actor's like Christopher Walken's good name. I could barely sit through it.\"\n",
            "label:  0\n"
          ]
        }
      ],
      "source": [
        "for example, label in train_dataset.take(1):\n",
        "  print('text: ', example.numpy())\n",
        "  print('label: ', label.numpy())"
      ]
    },
    {
      "cell_type": "markdown",
      "source": [
        "Berikutnya acak data untuk pelatihan dan membuat kumpulan pasangan (teks, label) ini:"
      ],
      "metadata": {
        "id": "XmRQXya3WqXM"
      }
    },
    {
      "cell_type": "code",
      "execution_count": null,
      "metadata": {
        "colab": {
          "base_uri": "https://localhost:8080/"
        },
        "id": "IQGpQ8dNanwD",
        "outputId": "07594cf8-e836-4bb1-a1ea-4e7784b775ec"
      },
      "outputs": [
        {
          "output_type": "stream",
          "name": "stdout",
          "text": [
            "texts:  [b\"Maybe I'm being too generous with the rating...but I just love this movie! I've seen it so many times, but every time I see it I fall in love with it all over again. It's just a simple romantic comedy, with nothing huge or monumentous that happens. But I'm a big romantic and this movie *is* romantic. I love Meg Ryan and Tim Robbins, and Walter Mathau is so funny. The scientists make me laugh so much...I definitely recommend this movie to anyone who hasn't seen it. It's such a clean, good movie - and those are so rare now! My 20-year-old brother likes this movie, too, so it's not just a chick-flick. ;-) I recommend it if you need to laugh, or if you're just lonely and need to *watch* a romance, if you yourself can't participate in one. It's a good 'un!\"\n",
            " b\"Full Moon High (1981) 3 of 5 Dir: Larry Cohen Stars: Adam Arkin, Ed McMahon, Roz Kelly<br /><br />Tony (Arkin) is your average ordinary high school guy. Prepping for the big homecoming game, girlfriend trouble and growing hair in strange places\\xc2\\x85you know the usual. But the hair in strange places part gets a wee bit out of control when a trip to Transylvania with his father (YES! McMahon) leaves him with a wicked case of the furballs. Now doomed to walk the world forever young as a werewolf how will Adam get any girls?<br /><br />'Full Moon High' is not often talked about but it is a silly and entertaining horror spoof. Larry Cohen (Q the Winged Serpent, The Stuff) incorporates as many gags as he can possibly come up with as writer / director. Arkin (H20: Halloween, 20 Years Later) shows nice timing in the lead role. If you happen to be a fan of spoofs like 'Airplane' and 'Student Bodies' I think you'll have fun with this chuckle-fest.\"\n",
            " b\"I got this film from a private collector and was very curious about it. It had a 7,8 in IMDb (9 votes only) and some external comments were pleasant. But I have to say that it is a very usual and uninteresting giallo. Yes, great cinematography, the film is well directed, but it never freaked me out. It starts well, but although it not bored me at all, the story is so ordinary and the things that occur so normal, that I didn't like it very much.<br /><br />You can make a few laughs. And you can see some little tits. But if you like the kind of giallos I like (bizarre, surreal, nonsenseful, gory, atmospheric, brutal murders...) you won't appreciate much this film.<br /><br />I give it a 4 for the good directing and editing, and the final twists, that make the film entertaining. But it could be much better.\"]\n",
            "\n",
            "labels:  [1 1 0]\n"
          ]
        }
      ],
      "source": [
        "BUFFER_SIZE = 10000\n",
        "BATCH_SIZE = 64\n",
        "\n",
        "train_dataset = train_dataset.shuffle(BUFFER_SIZE).batch(BATCH_SIZE).prefetch(tf.data.AUTOTUNE)\n",
        "test_dataset = test_dataset.batch(BATCH_SIZE).prefetch(tf.data.AUTOTUNE)\n",
        "\n",
        "for example, label in train_dataset.take(1):\n",
        "  print('texts: ', example.numpy()[:3])\n",
        "  print()\n",
        "  print('labels: ', label.numpy()[:3])\n"
      ]
    },
    {
      "cell_type": "markdown",
      "metadata": {
        "id": "4WeMY5Graq5h"
      },
      "source": [
        "###Buat Teks Encoder"
      ]
    },
    {
      "cell_type": "markdown",
      "source": [
        "Teks mentah yang dimuat oleh tfds perlu diproses sebelum dapat digunakan dalam model. Cara termudah memproses teks untuk pelatihan adalah menggunakan lapisan TextVectorization. Lapisan ini memiliki banyak kemampuan, namun pada tutorial ini menggunakan perilaku default. Buat lapisan tersebut, dan teruskan teks kumpulan data ke metode .adapt lapisan:"
      ],
      "metadata": {
        "id": "65y6LAAXWyPc"
      }
    },
    {
      "cell_type": "code",
      "execution_count": null,
      "metadata": {
        "id": "bjspzfZ3asmP"
      },
      "outputs": [],
      "source": [
        "VOCAB_SIZE = 1000\n",
        "encoder = tf.keras.layers.TextVectorization(\n",
        "    max_tokens=VOCAB_SIZE)\n",
        "encoder.adapt(train_dataset.map(lambda text, label: text))"
      ]
    },
    {
      "cell_type": "markdown",
      "source": [
        "Metode .adapt mengatur kosakata lapisan. 20 token pertama dapat dilihat dengan kode berikut. Setelah padding dan token yang tidak diketahui, mereka diurutkan berdasarkan frekuensi:"
      ],
      "metadata": {
        "id": "qOno0NRoX7RI"
      }
    },
    {
      "cell_type": "code",
      "execution_count": null,
      "metadata": {
        "colab": {
          "base_uri": "https://localhost:8080/"
        },
        "id": "M_U4acc9axzz",
        "outputId": "1ec2ef57-5aaa-4933-e4d8-15c63cff4086"
      },
      "outputs": [
        {
          "output_type": "execute_result",
          "data": {
            "text/plain": [
              "array(['', '[UNK]', 'the', 'and', 'a', 'of', 'to', 'is', 'in', 'it', 'i',\n",
              "       'this', 'that', 'br', 'was', 'as', 'for', 'with', 'movie', 'but'],\n",
              "      dtype='<U14')"
            ]
          },
          "metadata": {},
          "execution_count": 111
        }
      ],
      "source": [
        "vocab = np.array(encoder.get_vocabulary())\n",
        "vocab[:20]"
      ]
    },
    {
      "cell_type": "markdown",
      "source": [
        "Setelah kosakata diatur, lapisan dapat mengkodekan teks ke dalam indeks. Tensor indeks diberi bantalan 0 ke urutan terpanjang dalam batch (kecuali jika Anda menetapkan output_sequence_length tetap):"
      ],
      "metadata": {
        "id": "5rwgCUyjX9wU"
      }
    },
    {
      "cell_type": "code",
      "execution_count": null,
      "metadata": {
        "colab": {
          "base_uri": "https://localhost:8080/"
        },
        "id": "pcME357Xa-HB",
        "outputId": "41172f62-8a3b-4246-de90-ceb212251784"
      },
      "outputs": [
        {
          "output_type": "execute_result",
          "data": {
            "text/plain": [
              "array([[270, 142, 107, ...,   0,   0,   0],\n",
              "       [371,   1, 322, ...,   0,   0,   0],\n",
              "       [ 10, 183,  11, ...,   0,   0,   0]])"
            ]
          },
          "metadata": {},
          "execution_count": 112
        }
      ],
      "source": [
        "encoded_example = encoder(example)[:3].numpy()\n",
        "encoded_example"
      ]
    },
    {
      "cell_type": "code",
      "execution_count": null,
      "metadata": {
        "colab": {
          "base_uri": "https://localhost:8080/"
        },
        "id": "4rkTq5aSbZiA",
        "outputId": "cf1a40ad-f670-4c85-fe58-8ece59f4894c"
      },
      "outputs": [
        {
          "output_type": "stream",
          "name": "stdout",
          "text": [
            "Original:  b\"Maybe I'm being too generous with the rating...but I just love this movie! I've seen it so many times, but every time I see it I fall in love with it all over again. It's just a simple romantic comedy, with nothing huge or monumentous that happens. But I'm a big romantic and this movie *is* romantic. I love Meg Ryan and Tim Robbins, and Walter Mathau is so funny. The scientists make me laugh so much...I definitely recommend this movie to anyone who hasn't seen it. It's such a clean, good movie - and those are so rare now! My 20-year-old brother likes this movie, too, so it's not just a chick-flick. ;-) I recommend it if you need to laugh, or if you're just lonely and need to *watch* a romance, if you yourself can't participate in one. It's a good 'un!\"\n",
            "Round-trip:  maybe im being too [UNK] with the [UNK] i just love this movie ive seen it so many times but every time i see it i fall in love with it all over again its just a simple romantic comedy with nothing huge or [UNK] that happens but im a big romantic and this movie is romantic i love [UNK] [UNK] and [UNK] [UNK] and [UNK] [UNK] is so funny the [UNK] make me laugh so [UNK] definitely recommend this movie to anyone who [UNK] seen it its such a [UNK] good movie and those are so [UNK] now my [UNK] brother [UNK] this movie too so its not just a [UNK] i recommend it if you need to laugh or if youre just [UNK] and need to watch a romance if you yourself cant [UNK] in one its a good [UNK]                                                                                                                                                                                                                                                                                                                                                                                                                                                                                                                                                                                                                                                                                                                                                                                                                                                  \n",
            "\n",
            "Original:  b\"Full Moon High (1981) 3 of 5 Dir: Larry Cohen Stars: Adam Arkin, Ed McMahon, Roz Kelly<br /><br />Tony (Arkin) is your average ordinary high school guy. Prepping for the big homecoming game, girlfriend trouble and growing hair in strange places\\xc2\\x85you know the usual. But the hair in strange places part gets a wee bit out of control when a trip to Transylvania with his father (YES! McMahon) leaves him with a wicked case of the furballs. Now doomed to walk the world forever young as a werewolf how will Adam get any girls?<br /><br />'Full Moon High' is not often talked about but it is a silly and entertaining horror spoof. Larry Cohen (Q the Winged Serpent, The Stuff) incorporates as many gags as he can possibly come up with as writer / director. Arkin (H20: Halloween, 20 Years Later) shows nice timing in the lead role. If you happen to be a fan of spoofs like 'Airplane' and 'Student Bodies' I think you'll have fun with this chuckle-fest.\"\n",
            "Round-trip:  full [UNK] high [UNK] 3 of 5 [UNK] [UNK] [UNK] stars [UNK] [UNK] [UNK] [UNK] [UNK] [UNK] br [UNK] [UNK] is your average [UNK] high school guy [UNK] for the big [UNK] game [UNK] [UNK] and [UNK] [UNK] in strange [UNK] know the usual but the [UNK] in strange [UNK] part gets a [UNK] bit out of [UNK] when a [UNK] to [UNK] with his father yes [UNK] leaves him with a [UNK] case of the [UNK] now [UNK] to [UNK] the world [UNK] young as a [UNK] how will [UNK] get any [UNK] br full [UNK] high is not often [UNK] about but it is a silly and entertaining horror [UNK] [UNK] [UNK] [UNK] the [UNK] [UNK] the stuff [UNK] as many [UNK] as he can possibly come up with as writer director [UNK] [UNK] [UNK] 20 years later shows nice [UNK] in the lead role if you happen to be a fan of [UNK] like [UNK] and [UNK] [UNK] i think youll have fun with this [UNK]                                                                                                                                                                                                                                                                                                                                                                                                                                                                                                                                                                                                                                                                                                                                                                                                                       \n",
            "\n",
            "Original:  b\"I got this film from a private collector and was very curious about it. It had a 7,8 in IMDb (9 votes only) and some external comments were pleasant. But I have to say that it is a very usual and uninteresting giallo. Yes, great cinematography, the film is well directed, but it never freaked me out. It starts well, but although it not bored me at all, the story is so ordinary and the things that occur so normal, that I didn't like it very much.<br /><br />You can make a few laughs. And you can see some little tits. But if you like the kind of giallos I like (bizarre, surreal, nonsenseful, gory, atmospheric, brutal murders...) you won't appreciate much this film.<br /><br />I give it a 4 for the good directing and editing, and the final twists, that make the film entertaining. But it could be much better.\"\n",
            "Round-trip:  i got this film from a [UNK] [UNK] and was very [UNK] about it it had a [UNK] in imdb [UNK] [UNK] only and some [UNK] comments were [UNK] but i have to say that it is a very usual and [UNK] [UNK] yes great cinematography the film is well directed but it never [UNK] me out it starts well but although it not [UNK] me at all the story is so [UNK] and the things that [UNK] so [UNK] that i didnt like it very [UNK] br you can make a few laughs and you can see some little [UNK] but if you like the kind of [UNK] i like [UNK] [UNK] [UNK] [UNK] [UNK] [UNK] [UNK] you wont [UNK] much this filmbr br i give it a 4 for the good directing and editing and the final [UNK] that make the film entertaining but it could be much better                                                                                                                                                                                                                                                                                                                                                                                                                                                                                                                                                                                                                                                                                                                                                                                                                                         \n",
            "\n"
          ]
        }
      ],
      "source": [
        "for n in range(3):\n",
        "  print(\"Original: \", example[n].numpy())\n",
        "  print(\"Round-trip: \", \" \".join(vocab[encoded_example[n]]))\n",
        "  print()"
      ]
    },
    {
      "cell_type": "markdown",
      "metadata": {
        "id": "6pb7-nUmbdqr"
      },
      "source": [
        "###Buat Model\n",
        "\n",
        "![image.png](data:image/png;base64,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)"
      ]
    },
    {
      "cell_type": "code",
      "execution_count": null,
      "metadata": {
        "id": "vRtnBhvrbZbQ"
      },
      "outputs": [],
      "source": [
        "model = tf.keras.Sequential([\n",
        "    encoder,\n",
        "    tf.keras.layers.Embedding(\n",
        "        input_dim=len(encoder.get_vocabulary()),\n",
        "        output_dim=64,\n",
        "        # Use masking to handle the variable sequence lengths\n",
        "        mask_zero=True),\n",
        "    tf.keras.layers.Bidirectional(tf.keras.layers.LSTM(64)),\n",
        "    tf.keras.layers.Dense(64, activation='relu'),\n",
        "    tf.keras.layers.Dense(1)\n",
        "])"
      ]
    },
    {
      "cell_type": "code",
      "execution_count": null,
      "metadata": {
        "colab": {
          "base_uri": "https://localhost:8080/"
        },
        "id": "-3toeGn-bkKn",
        "outputId": "2a092b1e-0177-4cd3-c7d4-893e85f97691"
      },
      "outputs": [
        {
          "output_type": "stream",
          "name": "stdout",
          "text": [
            "[False, True, True, True, True]\n"
          ]
        }
      ],
      "source": [
        "print([layer.supports_masking for layer in model.layers])"
      ]
    },
    {
      "cell_type": "markdown",
      "source": [
        "Untuk memastikan bahwa ini berfungsi seperti yang diharapkan, evaluasi sebuah kalimat dua kali. Pertama, satu kalimat sehingga tidak ada bantalan (padding) untuk disamarkan:"
      ],
      "metadata": {
        "id": "qoJeZU18YmZG"
      }
    },
    {
      "cell_type": "code",
      "execution_count": null,
      "metadata": {
        "colab": {
          "base_uri": "https://localhost:8080/"
        },
        "id": "9w-AGb9nebf4",
        "outputId": "3d61fb2a-71fd-4f3f-c27e-4b6755240ffb"
      },
      "outputs": [
        {
          "output_type": "stream",
          "name": "stdout",
          "text": [
            "1/1 [==============================] - 3s 3s/step\n",
            "[0.00814155]\n"
          ]
        }
      ],
      "source": [
        "# predict on a sample text without padding.\n",
        "\n",
        "sample_text = ('The movie was cool. The animation and the graphics '\n",
        "               'were out of this world. I would recommend this movie.')\n",
        "predictions = model.predict(np.array([sample_text]))\n",
        "print(predictions[0])"
      ]
    },
    {
      "cell_type": "markdown",
      "source": [
        "Sekarang, evaluasi lagi dalam batch dengan kalimat yang lebih panjang. Hasilnya harus sama:"
      ],
      "metadata": {
        "id": "wb39FQ2eYq8_"
      }
    },
    {
      "cell_type": "code",
      "execution_count": null,
      "metadata": {
        "colab": {
          "base_uri": "https://localhost:8080/"
        },
        "id": "2UULZJgEeezy",
        "outputId": "53346a6a-70aa-4335-c502-f15c21ef676b"
      },
      "outputs": [
        {
          "output_type": "stream",
          "name": "stdout",
          "text": [
            "1/1 [==============================] - 0s 91ms/step\n",
            "[0.00814155]\n"
          ]
        }
      ],
      "source": [
        "# predict on a sample text with padding\n",
        "\n",
        "padding = \"the \" * 2000\n",
        "predictions = model.predict(np.array([sample_text, padding]))\n",
        "print(predictions[0])"
      ]
    },
    {
      "cell_type": "markdown",
      "source": [
        "compile model Keras untuk mengonfigurasi proses pelatihan:"
      ],
      "metadata": {
        "id": "evAlnkkWYsJ0"
      }
    },
    {
      "cell_type": "code",
      "execution_count": null,
      "metadata": {
        "id": "6rlIjgNSejr-"
      },
      "outputs": [],
      "source": [
        "model.compile(loss=tf.keras.losses.BinaryCrossentropy(from_logits=True),\n",
        "              optimizer=tf.keras.optimizers.Adam(1e-4),\n",
        "              metrics=['accuracy'])"
      ]
    },
    {
      "cell_type": "markdown",
      "metadata": {
        "id": "_GbL_mO5enCK"
      },
      "source": [
        "###Train Model"
      ]
    },
    {
      "cell_type": "code",
      "execution_count": null,
      "metadata": {
        "colab": {
          "base_uri": "https://localhost:8080/"
        },
        "id": "fL__D6fUeoS3",
        "outputId": "99f5134c-961b-4999-c665-12c5ab27855f"
      },
      "outputs": [
        {
          "output_type": "stream",
          "name": "stdout",
          "text": [
            "Epoch 1/10\n",
            "391/391 [==============================] - 43s 89ms/step - loss: 0.6397 - accuracy: 0.5778 - val_loss: 0.5284 - val_accuracy: 0.7198\n",
            "Epoch 2/10\n",
            "391/391 [==============================] - 26s 66ms/step - loss: 0.4882 - accuracy: 0.7523 - val_loss: 0.4619 - val_accuracy: 0.8016\n",
            "Epoch 3/10\n",
            "391/391 [==============================] - 28s 71ms/step - loss: 0.3887 - accuracy: 0.8257 - val_loss: 0.3812 - val_accuracy: 0.8448\n",
            "Epoch 4/10\n",
            "391/391 [==============================] - 26s 65ms/step - loss: 0.3434 - accuracy: 0.8488 - val_loss: 0.3392 - val_accuracy: 0.8568\n",
            "Epoch 5/10\n",
            "391/391 [==============================] - 25s 63ms/step - loss: 0.3224 - accuracy: 0.8596 - val_loss: 0.3279 - val_accuracy: 0.8568\n",
            "Epoch 6/10\n",
            "391/391 [==============================] - 24s 61ms/step - loss: 0.3142 - accuracy: 0.8645 - val_loss: 0.3277 - val_accuracy: 0.8500\n",
            "Epoch 7/10\n",
            "391/391 [==============================] - 24s 61ms/step - loss: 0.3082 - accuracy: 0.8688 - val_loss: 0.3241 - val_accuracy: 0.8583\n",
            "Epoch 8/10\n",
            "391/391 [==============================] - 25s 63ms/step - loss: 0.3028 - accuracy: 0.8704 - val_loss: 0.3213 - val_accuracy: 0.8641\n",
            "Epoch 9/10\n",
            "391/391 [==============================] - 25s 63ms/step - loss: 0.3024 - accuracy: 0.8710 - val_loss: 0.3201 - val_accuracy: 0.8635\n",
            "Epoch 10/10\n",
            "391/391 [==============================] - 25s 63ms/step - loss: 0.2999 - accuracy: 0.8727 - val_loss: 0.3220 - val_accuracy: 0.8542\n"
          ]
        }
      ],
      "source": [
        "history = model.fit(train_dataset, epochs=10,\n",
        "                    validation_data=test_dataset,\n",
        "                    validation_steps=30)"
      ]
    },
    {
      "cell_type": "code",
      "execution_count": null,
      "metadata": {
        "id": "wl4Eq6oODwAH",
        "colab": {
          "base_uri": "https://localhost:8080/"
        },
        "outputId": "919db2e0-818f-4ee3-db2d-53ca413b79e9"
      },
      "outputs": [
        {
          "output_type": "stream",
          "name": "stdout",
          "text": [
            "391/391 [==============================] - 11s 28ms/step - loss: 0.3184 - accuracy: 0.8526\n",
            "Test Loss:  0.31844455003738403\n",
            "Test Accuracy :  0.8525999784469604\n"
          ]
        }
      ],
      "source": [
        "test_loss, test_acc = model.evaluate(test_dataset)\n",
        "\n",
        "print('Test Loss: ', test_loss)\n",
        "print('Test Accuracy : ', test_acc)"
      ]
    },
    {
      "cell_type": "code",
      "source": [
        "plt.figure(figsize=(16, 8))\n",
        "plt.subplot(1, 2, 1)\n",
        "plot_graphs(history, 'accuracy')\n",
        "plt.ylim(None, 1)\n",
        "plt.subplot(1, 2, 2)\n",
        "plot_graphs(history, 'loss')\n",
        "plt.ylim(0, None)"
      ],
      "metadata": {
        "colab": {
          "base_uri": "https://localhost:8080/",
          "height": 718
        },
        "id": "-LXZzBfsEZWA",
        "outputId": "1a4b4a46-80f0-419a-da09-0a860c6cd8d2"
      },
      "execution_count": null,
      "outputs": [
        {
          "output_type": "execute_result",
          "data": {
            "text/plain": [
              "(0.0, 0.6566410750150681)"
            ]
          },
          "metadata": {},
          "execution_count": 121
        },
        {
          "output_type": "display_data",
          "data": {
            "text/plain": [
              "<Figure size 1600x800 with 2 Axes>"
            ],
            "image/png": "[encoded data removed]"
          },
          "metadata": {}
        }
      ]
    },
    {
      "cell_type": "markdown",
      "source": [
        "Jalankan prediksi pada kalimat baru:\n",
        "Jika prediksi >= 0,0 berarti positif, jika tidak maka negatif."
      ],
      "metadata": {
        "id": "7rhPhOS0Yy-B"
      }
    },
    {
      "cell_type": "code",
      "source": [
        "sample_text = ('The movie was cool. The animation and the graphics'\n",
        "                'were out of this world. I would recommend this movie.')\n",
        "predictions = model.predict(np.array([sample_text]))"
      ],
      "metadata": {
        "colab": {
          "base_uri": "https://localhost:8080/"
        },
        "id": "8UXcrrfVEdFj",
        "outputId": "a394afc6-29fe-4e3e-ace0-3f5b082ac70e"
      },
      "execution_count": null,
      "outputs": [
        {
          "output_type": "stream",
          "name": "stderr",
          "text": [
            "WARNING:tensorflow:5 out of the last 7 calls to <function Model.make_predict_function.<locals>.predict_function at 0x7ebcae5b4af0> triggered tf.function retracing. Tracing is expensive and the excessive number of tracings could be due to (1) creating @tf.function repeatedly in a loop, (2) passing tensors with different shapes, (3) passing Python objects instead of tensors. For (1), please define your @tf.function outside of the loop. For (2), @tf.function has reduce_retracing=True option that can avoid unnecessary retracing. For (3), please refer to https://www.tensorflow.org/guide/function#controlling_retracing and https://www.tensorflow.org/api_docs/python/tf/function for  more details.\n"
          ]
        },
        {
          "output_type": "stream",
          "name": "stdout",
          "text": [
            "1/1 [==============================] - 2s 2s/step\n"
          ]
        }
      ]
    },
    {
      "cell_type": "markdown",
      "source": [
        "### Stack two or more LSTM layers"
      ],
      "metadata": {
        "id": "izdhdJOwEiF3"
      }
    },
    {
      "cell_type": "markdown",
      "source": [
        "Berikut adalah alur informasi dengan return_sequences=True:\n",
        "\n",
        "![image.png](data:image/png;base64,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)"
      ],
      "metadata": {
        "id": "albwO34_ZPqy"
      }
    },
    {
      "cell_type": "markdown",
      "source": [
        "Hal yang menarik dari penggunaan RNN dengan return_sequences=True adalah outputnya masih memiliki 3 axis, sama seperti inputnya, sehingga bisa diteruskan ke layer RNN lain, seperti ini:"
      ],
      "metadata": {
        "id": "WdAHrwkEZcUp"
      }
    },
    {
      "cell_type": "code",
      "source": [
        "model = tf.keras.Sequential([\n",
        "    encoder,\n",
        "    tf.keras.layers.Embedding(len(encoder.get_vocabulary()), 64, mask_zero=True),\n",
        "    tf.keras.layers.Bidirectional(tf.keras.layers.LSTM(64, return_sequences=True)),\n",
        "    tf.keras.layers.Bidirectional(tf.keras.layers.LSTM(32)),\n",
        "    tf.keras.layers.Dense(64, activation='relu'),\n",
        "    tf.keras.layers.Dropout(0.5),\n",
        "    tf.keras.layers.Dense(1)\n",
        "])"
      ],
      "metadata": {
        "id": "sNSiddDMEmLV"
      },
      "execution_count": null,
      "outputs": []
    },
    {
      "cell_type": "code",
      "source": [
        "model.compile(loss=tf.keras.losses.BinaryCrossentropy(from_logits=True),\n",
        "              optimizer = tf.keras.optimizers.Adam(1e-4),\n",
        "              metrics=['accuracy'])"
      ],
      "metadata": {
        "id": "1FZhBEGTEyXk"
      },
      "execution_count": null,
      "outputs": []
    },
    {
      "cell_type": "code",
      "source": [
        "history = model.fit(train_dataset, epochs=10,\n",
        "                    validation_data=test_dataset,\n",
        "                    validation_steps=30)"
      ],
      "metadata": {
        "colab": {
          "base_uri": "https://localhost:8080/"
        },
        "id": "8eqXBAVEFeVA",
        "outputId": "cfe0dbbb-46de-4774-8c64-05d9d4831bb5"
      },
      "execution_count": null,
      "outputs": [
        {
          "output_type": "stream",
          "name": "stdout",
          "text": [
            "Epoch 1/10\n",
            "391/391 [==============================] - 77s 151ms/step - loss: 0.6541 - accuracy: 0.5564 - val_loss: 0.4684 - val_accuracy: 0.7781\n",
            "Epoch 2/10\n",
            "391/391 [==============================] - 47s 120ms/step - loss: 0.4003 - accuracy: 0.8264 - val_loss: 0.3647 - val_accuracy: 0.8281\n",
            "Epoch 3/10\n",
            "391/391 [==============================] - 46s 117ms/step - loss: 0.3430 - accuracy: 0.8535 - val_loss: 0.3340 - val_accuracy: 0.8510\n",
            "Epoch 4/10\n",
            "391/391 [==============================] - 49s 125ms/step - loss: 0.3313 - accuracy: 0.8578 - val_loss: 0.3309 - val_accuracy: 0.8542\n",
            "Epoch 5/10\n",
            "391/391 [==============================] - 45s 116ms/step - loss: 0.3158 - accuracy: 0.8653 - val_loss: 0.3341 - val_accuracy: 0.8552\n",
            "Epoch 6/10\n",
            "391/391 [==============================] - 45s 114ms/step - loss: 0.3130 - accuracy: 0.8668 - val_loss: 0.3168 - val_accuracy: 0.8609\n",
            "Epoch 7/10\n",
            "391/391 [==============================] - 46s 118ms/step - loss: 0.3110 - accuracy: 0.8671 - val_loss: 0.3206 - val_accuracy: 0.8594\n",
            "Epoch 8/10\n",
            "391/391 [==============================] - 48s 122ms/step - loss: 0.3024 - accuracy: 0.8686 - val_loss: 0.3139 - val_accuracy: 0.8625\n",
            "Epoch 9/10\n",
            "391/391 [==============================] - 49s 125ms/step - loss: 0.3012 - accuracy: 0.8689 - val_loss: 0.3144 - val_accuracy: 0.8604\n",
            "Epoch 10/10\n",
            "391/391 [==============================] - 49s 126ms/step - loss: 0.2998 - accuracy: 0.8710 - val_loss: 0.3332 - val_accuracy: 0.8526\n"
          ]
        }
      ]
    },
    {
      "cell_type": "code",
      "source": [
        "test_loss, test_acc = model.evaluate(test_dataset)\n",
        "\n",
        "print('Test Loss:', test_loss)\n",
        "print('Test Accuracy:', test_acc)"
      ],
      "metadata": {
        "colab": {
          "base_uri": "https://localhost:8080/"
        },
        "id": "A0GlBSQYFjmq",
        "outputId": "4780bedc-0f1a-46d1-c6b9-102db8384d09"
      },
      "execution_count": null,
      "outputs": [
        {
          "output_type": "stream",
          "name": "stdout",
          "text": [
            "391/391 [==============================] - 20s 52ms/step - loss: 0.3320 - accuracy: 0.8496\n",
            "Test Loss: 0.3319918215274811\n",
            "Test Accuracy: 0.8496000170707703\n"
          ]
        }
      ]
    },
    {
      "cell_type": "code",
      "execution_count": null,
      "metadata": {
        "id": "Fd2Jshr9ERR_",
        "colab": {
          "base_uri": "https://localhost:8080/"
        },
        "outputId": "6acf5b47-5a81-4f83-f29f-5b83fd8c524a"
      },
      "outputs": [
        {
          "output_type": "stream",
          "name": "stderr",
          "text": [
            "WARNING:tensorflow:6 out of the last 8 calls to <function Model.make_predict_function.<locals>.predict_function at 0x7ebc21b9bf40> triggered tf.function retracing. Tracing is expensive and the excessive number of tracings could be due to (1) creating @tf.function repeatedly in a loop, (2) passing tensors with different shapes, (3) passing Python objects instead of tensors. For (1), please define your @tf.function outside of the loop. For (2), @tf.function has reduce_retracing=True option that can avoid unnecessary retracing. For (3), please refer to https://www.tensorflow.org/guide/function#controlling_retracing and https://www.tensorflow.org/api_docs/python/tf/function for  more details.\n"
          ]
        },
        {
          "output_type": "stream",
          "name": "stdout",
          "text": [
            "1/1 [==============================] - 5s 5s/step\n",
            "[[-1.2936199]]\n"
          ]
        }
      ],
      "source": [
        "# predict on a sample text without padding\n",
        "\n",
        "sample_text = ('The movie was not good. The animation and the graphics'\n",
        "                'were terrible. I would not recommend this movie.')\n",
        "\n",
        "predictions = model.predict(np.array([sample_text]))\n",
        "print(predictions)"
      ]
    },
    {
      "cell_type": "code",
      "execution_count": null,
      "metadata": {
        "id": "NFm1RzzKFSpQ",
        "colab": {
          "base_uri": "https://localhost:8080/",
          "height": 542
        },
        "outputId": "b99107ed-30db-41d3-bd30-09852f6c9892"
      },
      "outputs": [
        {
          "output_type": "display_data",
          "data": {
            "text/plain": [
              "<Figure size 1600x600 with 2 Axes>"
            ],
            "image/png": "[encoded data removed]"
          },
          "metadata": {}
        }
      ],
      "source": [
        "plt.figure(figsize=(16,6))\n",
        "plt.subplot(1,2,1)\n",
        "plot_graphs(history, 'accuracy')\n",
        "plt.subplot(1,2,2)\n",
        "plot_graphs(history, 'loss')"
      ]
    },
    {
      "cell_type": "markdown",
      "metadata": {
        "id": "Mjom8l7_FuNR"
      },
      "source": [
        "#**PRAKTIKUM 2**"
      ]
    },
    {
      "cell_type": "markdown",
      "metadata": {
        "id": "aPcYVUADGQQM"
      },
      "source": [
        "# Generator Teks dengan RNN"
      ]
    },
    {
      "cell_type": "markdown",
      "source": [
        "# Setup\n",
        "\n",
        "Import TensorFlow"
      ],
      "metadata": {
        "id": "YD2kaAM_7WcE"
      }
    },
    {
      "cell_type": "code",
      "execution_count": null,
      "metadata": {
        "id": "rIlqKqTTFyTz"
      },
      "outputs": [],
      "source": [
        "import tensorflow as tf\n",
        "import numpy as np\n",
        "import os\n",
        "import time"
      ]
    },
    {
      "cell_type": "markdown",
      "source": [
        "Download Dataset Shakespeare"
      ],
      "metadata": {
        "id": "mRLqdLNp7Sdp"
      }
    },
    {
      "cell_type": "code",
      "source": [
        "path_to_file = tf.keras.utils.get_file('shakespeare.txt', 'https://storage.googleapis.com/download.tensorflow.org/data/shakespeare.txt')"
      ],
      "metadata": {
        "id": "2t0tCK6a7bkc"
      },
      "execution_count": null,
      "outputs": []
    },
    {
      "cell_type": "markdown",
      "source": [
        "Load Data"
      ],
      "metadata": {
        "id": "oxfhy3vjZ7Sw"
      }
    },
    {
      "cell_type": "code",
      "source": [
        "# Read, the people decode for py2 compat.\n",
        "text = open(path_to_file, 'rb').read().decode(encoding = 'utf-8')\n",
        "\n",
        "# length of text is the number characters in it\n",
        "print(f'Length of text : {len(text)}characters')"
      ],
      "metadata": {
        "colab": {
          "base_uri": "https://localhost:8080/"
        },
        "id": "KR8POdeU8GiE",
        "outputId": "42e328dc-4aeb-4cf9-e234-21735009cf49"
      },
      "execution_count": null,
      "outputs": [
        {
          "output_type": "stream",
          "name": "stdout",
          "text": [
            "Length of text : 1115394characters\n"
          ]
        }
      ]
    },
    {
      "cell_type": "code",
      "source": [
        "# Take a look at the first 250 characters in text\n",
        "print(text[:250])"
      ],
      "metadata": {
        "colab": {
          "base_uri": "https://localhost:8080/"
        },
        "id": "PXaPR4eq8tsi",
        "outputId": "bb2bb1ca-bcb9-48b2-a50d-83ecd0d52725"
      },
      "execution_count": null,
      "outputs": [
        {
          "output_type": "stream",
          "name": "stdout",
          "text": [
            "First Citizen:\n",
            "Before we proceed any further, hear me speak.\n",
            "\n",
            "All:\n",
            "Speak, speak.\n",
            "\n",
            "First Citizen:\n",
            "You are all resolved rather to die than to famish?\n",
            "\n",
            "All:\n",
            "Resolved. resolved.\n",
            "\n",
            "First Citizen:\n",
            "First, you know Caius Marcius is chief enemy to the people.\n",
            "\n"
          ]
        }
      ]
    },
    {
      "cell_type": "code",
      "source": [
        "# The unique characters in the file\n",
        "vocab = sorted(set(text))\n",
        "print(f'{len(vocab)} unique characters')"
      ],
      "metadata": {
        "colab": {
          "base_uri": "https://localhost:8080/"
        },
        "id": "WIJf8Wj284Lm",
        "outputId": "88637bdf-055e-4ac6-bb67-3147d27db237"
      },
      "execution_count": null,
      "outputs": [
        {
          "output_type": "stream",
          "name": "stdout",
          "text": [
            "65 unique characters\n"
          ]
        }
      ]
    },
    {
      "cell_type": "markdown",
      "source": [
        "###Olah Teks"
      ],
      "metadata": {
        "id": "nFeboJiHCox6"
      }
    },
    {
      "cell_type": "markdown",
      "source": [
        "Vectorize Teks\n",
        "\n",
        "Sebelum training, Anda perlu mengonversi string menjadi representasi numerik. tf.keras.layers.StringLookup dapat mengubah setiap karakter menjadi ID numerik. Caranya adalah teks akan dipecah menjadi token terlebih dahulu."
      ],
      "metadata": {
        "id": "A2xSfWrg9IwZ"
      }
    },
    {
      "cell_type": "code",
      "source": [
        "example_texts = ['abcdefg', 'xyz']\n",
        "chars = tf.strings.unicode_split(example_texts, input_encoding='UTF-8')\n",
        "chars"
      ],
      "metadata": {
        "colab": {
          "base_uri": "https://localhost:8080/"
        },
        "id": "xDuF0T0Q9LSa",
        "outputId": "cf9d5f5c-ff8d-42f9-e29f-f0997166bd58"
      },
      "execution_count": null,
      "outputs": [
        {
          "output_type": "execute_result",
          "data": {
            "text/plain": [
              "<tf.RaggedTensor [[b'a', b'b', b'c', b'd', b'e', b'f', b'g'], [b'x', b'y', b'z']]>"
            ]
          },
          "metadata": {},
          "execution_count": 134
        }
      ]
    },
    {
      "cell_type": "markdown",
      "source": [
        "sekarang buat tf.keras.layers.StringLookup layer:"
      ],
      "metadata": {
        "id": "i_H3hfHV9uBA"
      }
    },
    {
      "cell_type": "code",
      "source": [
        "ids_from_chars = tf.keras.layers.StringLookup(\n",
        "    vocabulary = list(vocab), mask_token=None\n",
        ")"
      ],
      "metadata": {
        "id": "_4LPLJwe9rJH"
      },
      "execution_count": null,
      "outputs": []
    },
    {
      "cell_type": "markdown",
      "source": [
        "perintah diatas mengconvert token menjadi id"
      ],
      "metadata": {
        "id": "ewGv1oz6-AXS"
      }
    },
    {
      "cell_type": "code",
      "source": [
        "ids = ids_from_chars(chars)\n",
        "ids"
      ],
      "metadata": {
        "colab": {
          "base_uri": "https://localhost:8080/"
        },
        "id": "qgg592d-9_34",
        "outputId": "2144ba66-36d1-4cd7-897d-bb6051b180e2"
      },
      "execution_count": null,
      "outputs": [
        {
          "output_type": "execute_result",
          "data": {
            "text/plain": [
              "<tf.RaggedTensor [[40, 41, 42, 43, 44, 45, 46], [63, 64, 65]]>"
            ]
          },
          "metadata": {},
          "execution_count": 136
        }
      ]
    },
    {
      "cell_type": "markdown",
      "source": [
        "Karena tujuan tutorial ini adalah untuk menghasilkan teks, penting juga untuk membalikkan representasi ini. Untuk ini Anda dapat menggunakan kode tf.keras.layers.StringLookup(..., invert=True).\n",
        "Catatan: pada kode ini, daripada meneruskan kosakata asli yang dihasilkan dengan diurutkan(set(teks)) gunakan metode get_vocabulary() dari tf.keras.layers.StringLookup sehingga token [UNK] disetel dengan cara yang sama."
      ],
      "metadata": {
        "id": "K_s0rIyGaUv2"
      }
    },
    {
      "cell_type": "code",
      "source": [
        "chars_from_ids = tf.keras.layers.StringLookup(\n",
        "    vocabulary = ids_from_chars.get_vocabulary(),\n",
        "    invert = True, mask_token = None\n",
        ")"
      ],
      "metadata": {
        "id": "Ru6oRKls-Pq_"
      },
      "execution_count": null,
      "outputs": []
    },
    {
      "cell_type": "markdown",
      "source": [
        "Lapisan ini mengconvert kembali karakter dari vektor ID, dan mengembalikannya sebagai karakter tf.RaggedTensor:"
      ],
      "metadata": {
        "id": "zzHiWkPkawmU"
      }
    },
    {
      "cell_type": "code",
      "source": [
        "chars = chars_from_ids(ids)\n",
        "chars"
      ],
      "metadata": {
        "colab": {
          "base_uri": "https://localhost:8080/"
        },
        "id": "RA7TlnWE-oTQ",
        "outputId": "060215d4-b8b2-43f3-e27a-7a4463db30f4"
      },
      "execution_count": null,
      "outputs": [
        {
          "output_type": "execute_result",
          "data": {
            "text/plain": [
              "<tf.RaggedTensor [[b'a', b'b', b'c', b'd', b'e', b'f', b'g'], [b'x', b'y', b'z']]>"
            ]
          },
          "metadata": {},
          "execution_count": 138
        }
      ]
    },
    {
      "cell_type": "markdown",
      "source": [
        "Anda dapat menggunakan tf.strings.reduce_join untuk menggabungkan kembali karakter menjadi string."
      ],
      "metadata": {
        "id": "r-SO_ZwjazHN"
      }
    },
    {
      "cell_type": "code",
      "source": [
        "tf.strings.reduce_join(chars, axis=-1).numpy()"
      ],
      "metadata": {
        "colab": {
          "base_uri": "https://localhost:8080/"
        },
        "id": "SwB81EcA_tPL",
        "outputId": "d923d45b-a5f6-41d9-fba2-7cc134faaab6"
      },
      "execution_count": null,
      "outputs": [
        {
          "output_type": "execute_result",
          "data": {
            "text/plain": [
              "array([b'abcdefg', b'xyz'], dtype=object)"
            ]
          },
          "metadata": {},
          "execution_count": 139
        }
      ]
    },
    {
      "cell_type": "code",
      "source": [
        "def text_from_ids(ids):\n",
        "  return tf.strings.reduce_join(chars_from_ids(ids), axis=-1)"
      ],
      "metadata": {
        "id": "I8ewqUh5_wJI"
      },
      "execution_count": null,
      "outputs": []
    },
    {
      "cell_type": "markdown",
      "source": [
        "# Prediksi\n",
        "\n",
        "Membuat Trianing Set dan Target"
      ],
      "metadata": {
        "id": "CJyK0-fV_3VA"
      }
    },
    {
      "cell_type": "code",
      "source": [
        "all_ids = ids_from_chars(tf.strings.unicode_split(text, 'UTF-8'))\n",
        "all_ids"
      ],
      "metadata": {
        "colab": {
          "base_uri": "https://localhost:8080/"
        },
        "id": "Tap0gHWUAVTj",
        "outputId": "dde84760-bd27-4f12-f9f1-2797e976b068"
      },
      "execution_count": null,
      "outputs": [
        {
          "output_type": "execute_result",
          "data": {
            "text/plain": [
              "<tf.Tensor: shape=(1115394,), dtype=int64, numpy=array([19, 48, 57, ..., 46,  9,  1])>"
            ]
          },
          "metadata": {},
          "execution_count": 141
        }
      ]
    },
    {
      "cell_type": "code",
      "source": [
        "ids_dataset = tf.data.Dataset.from_tensor_slices(all_ids)"
      ],
      "metadata": {
        "id": "O_O25TGBAZHt"
      },
      "execution_count": null,
      "outputs": []
    },
    {
      "cell_type": "code",
      "source": [
        "for ids in ids_dataset.take(10):\n",
        "  print(chars_from_ids(ids).numpy().decode('utf-8'))"
      ],
      "metadata": {
        "colab": {
          "base_uri": "https://localhost:8080/"
        },
        "id": "LoAgGCcUAbFc",
        "outputId": "418debee-c4e4-4745-dcd4-c4e136f011ab"
      },
      "execution_count": null,
      "outputs": [
        {
          "output_type": "stream",
          "name": "stdout",
          "text": [
            "F\n",
            "i\n",
            "r\n",
            "s\n",
            "t\n",
            " \n",
            "C\n",
            "i\n",
            "t\n",
            "i\n"
          ]
        }
      ]
    },
    {
      "cell_type": "code",
      "source": [
        "seq_length = 100"
      ],
      "metadata": {
        "id": "l3sr7zfbAfaW"
      },
      "execution_count": null,
      "outputs": []
    },
    {
      "cell_type": "markdown",
      "source": [
        "Metode batch memungkinkan Anda dengan mudah mengonversi karakter individual ini menjadi urutan ukuran yang diinginkan."
      ],
      "metadata": {
        "id": "9755bXUxa6S8"
      }
    },
    {
      "cell_type": "code",
      "source": [
        "sequences = ids_dataset.batch(seq_length+1, drop_remainder=True)\n",
        "\n",
        "for seq in sequences.take(1):\n",
        "  print(chars_from_ids(seq))"
      ],
      "metadata": {
        "colab": {
          "base_uri": "https://localhost:8080/"
        },
        "id": "euJxXkPMAisR",
        "outputId": "3368b104-5efc-471c-d9fc-6395b553e8dd"
      },
      "execution_count": null,
      "outputs": [
        {
          "output_type": "stream",
          "name": "stdout",
          "text": [
            "tf.Tensor(\n",
            "[b'F' b'i' b'r' b's' b't' b' ' b'C' b'i' b't' b'i' b'z' b'e' b'n' b':'\n",
            " b'\\n' b'B' b'e' b'f' b'o' b'r' b'e' b' ' b'w' b'e' b' ' b'p' b'r' b'o'\n",
            " b'c' b'e' b'e' b'd' b' ' b'a' b'n' b'y' b' ' b'f' b'u' b'r' b't' b'h'\n",
            " b'e' b'r' b',' b' ' b'h' b'e' b'a' b'r' b' ' b'm' b'e' b' ' b's' b'p'\n",
            " b'e' b'a' b'k' b'.' b'\\n' b'\\n' b'A' b'l' b'l' b':' b'\\n' b'S' b'p' b'e'\n",
            " b'a' b'k' b',' b' ' b's' b'p' b'e' b'a' b'k' b'.' b'\\n' b'\\n' b'F' b'i'\n",
            " b'r' b's' b't' b' ' b'C' b'i' b't' b'i' b'z' b'e' b'n' b':' b'\\n' b'Y'\n",
            " b'o' b'u' b' '], shape=(101,), dtype=string)\n"
          ]
        }
      ]
    },
    {
      "cell_type": "markdown",
      "source": [
        "akan lebih mudah untuk melihat apa yang dilakukan jika Anda menggabungkan token kembali menjadi string:"
      ],
      "metadata": {
        "id": "1eQP6G3ea99P"
      }
    },
    {
      "cell_type": "code",
      "source": [
        "for seq in sequences.take(5):\n",
        "  print(text_from_ids(seq).numpy())"
      ],
      "metadata": {
        "colab": {
          "base_uri": "https://localhost:8080/"
        },
        "id": "1n1LJjYrAlbN",
        "outputId": "320856bf-9469-403b-8d94-63becd6b9d25"
      },
      "execution_count": null,
      "outputs": [
        {
          "output_type": "stream",
          "name": "stdout",
          "text": [
            "b'First Citizen:\\nBefore we proceed any further, hear me speak.\\n\\nAll:\\nSpeak, speak.\\n\\nFirst Citizen:\\nYou '\n",
            "b'are all resolved rather to die than to famish?\\n\\nAll:\\nResolved. resolved.\\n\\nFirst Citizen:\\nFirst, you k'\n",
            "b\"now Caius Marcius is chief enemy to the people.\\n\\nAll:\\nWe know't, we know't.\\n\\nFirst Citizen:\\nLet us ki\"\n",
            "b\"ll him, and we'll have corn at our own price.\\nIs't a verdict?\\n\\nAll:\\nNo more talking on't; let it be d\"\n",
            "b'one: away, away!\\n\\nSecond Citizen:\\nOne word, good citizens.\\n\\nFirst Citizen:\\nWe are accounted poor citi'\n"
          ]
        }
      ]
    },
    {
      "cell_type": "markdown",
      "source": [
        "Berikut adalah fungsi yang mengambil urutan sebagai masukan, menduplikasi, dan menggesernya untuk menyelaraskan masukan dan label untuk setiap langkah waktu:"
      ],
      "metadata": {
        "id": "uLL1CK69bCVk"
      }
    },
    {
      "cell_type": "code",
      "source": [
        "def split_input_target(sequence):\n",
        "  input_text = sequence[:-1]\n",
        "  target_text = sequence[1:]\n",
        "  return input_text, target_text"
      ],
      "metadata": {
        "id": "vTHnCduAAqWV"
      },
      "execution_count": null,
      "outputs": []
    },
    {
      "cell_type": "code",
      "source": [
        "split_input_target(list(\"Tensorflow\"))"
      ],
      "metadata": {
        "colab": {
          "base_uri": "https://localhost:8080/"
        },
        "id": "pFbHo0PsA2T8",
        "outputId": "def0dcb8-1ca0-477a-c633-a63dc8f40928"
      },
      "execution_count": null,
      "outputs": [
        {
          "output_type": "execute_result",
          "data": {
            "text/plain": [
              "(['T', 'e', 'n', 's', 'o', 'r', 'f', 'l', 'o'],\n",
              " ['e', 'n', 's', 'o', 'r', 'f', 'l', 'o', 'w'])"
            ]
          },
          "metadata": {},
          "execution_count": 148
        }
      ]
    },
    {
      "cell_type": "code",
      "source": [
        "dataset = sequences.map(split_input_target)"
      ],
      "metadata": {
        "id": "8sJOKC2tA3FZ"
      },
      "execution_count": null,
      "outputs": []
    },
    {
      "cell_type": "code",
      "source": [
        "for input_example, target_example in dataset.take(1):\n",
        "  print(\"Input :\", text_from_ids(input_example).numpy())\n",
        "  print(\"Target:\", text_from_ids(target_example).numpy())"
      ],
      "metadata": {
        "colab": {
          "base_uri": "https://localhost:8080/"
        },
        "id": "8SnXfGP3A7PN",
        "outputId": "4efe99a6-511b-4244-a2c0-38aee93cccc7"
      },
      "execution_count": null,
      "outputs": [
        {
          "output_type": "stream",
          "name": "stdout",
          "text": [
            "Input : b'First Citizen:\\nBefore we proceed any further, hear me speak.\\n\\nAll:\\nSpeak, speak.\\n\\nFirst Citizen:\\nYou'\n",
            "Target: b'irst Citizen:\\nBefore we proceed any further, hear me speak.\\n\\nAll:\\nSpeak, speak.\\n\\nFirst Citizen:\\nYou '\n"
          ]
        }
      ]
    },
    {
      "cell_type": "markdown",
      "source": [
        "# Membuat Batch Training"
      ],
      "metadata": {
        "id": "LMNJIt6qBFgU"
      }
    },
    {
      "cell_type": "markdown",
      "source": [
        "Anda menggunakan tf.data untuk membagi teks menjadi sequence yang dapat diatur. Namun sebelum memasukkan data ini ke dalam model, Anda perlu mengacak data dan mengemasnya ke dalam batch."
      ],
      "metadata": {
        "id": "B9i31_T4bFEk"
      }
    },
    {
      "cell_type": "code",
      "source": [
        "# Batch size\n",
        "BATCH_SIZE = 64\n",
        "\n",
        "# Buffer size to shuffle the dataset\n",
        "# (TF data is designed to work with possibly infinite sequences,\n",
        "# so it doesn't attempt to shuffle the entire sequence in memory. Instead,\n",
        "# it maintains a buffer in which it shuffles elements).\n",
        "BUFFER_SIZE = 10000\n",
        "\n",
        "dataset = (\n",
        "    dataset\n",
        "    .shuffle(BUFFER_SIZE)\n",
        "    .batch(BATCH_SIZE, drop_remainder=True)\n",
        "    .prefetch(tf.data.experimental.AUTOTUNE))\n",
        "\n",
        "dataset"
      ],
      "metadata": {
        "colab": {
          "base_uri": "https://localhost:8080/"
        },
        "id": "GJU9vWbrBC-V",
        "outputId": "25eae430-6b5e-4fe1-e028-4640d459df13"
      },
      "execution_count": null,
      "outputs": [
        {
          "output_type": "execute_result",
          "data": {
            "text/plain": [
              "<_PrefetchDataset element_spec=(TensorSpec(shape=(64, 100), dtype=tf.int64, name=None), TensorSpec(shape=(64, 100), dtype=tf.int64, name=None))>"
            ]
          },
          "metadata": {},
          "execution_count": 151
        }
      ]
    },
    {
      "cell_type": "markdown",
      "source": [
        "###Buat Model"
      ],
      "metadata": {
        "id": "T9rIAD9VBJ_E"
      }
    },
    {
      "cell_type": "markdown",
      "source": [
        "Bagian ini mendefinisikan model sebagai subkelas keras"
      ],
      "metadata": {
        "id": "kB-R_zukbMh1"
      }
    },
    {
      "cell_type": "code",
      "source": [
        "# Length of the vocabulary in StringLookup Layer\n",
        "vocab_size = len(ids_from_chars.get_vocabulary())\n",
        "\n",
        "# The embedding dimension\n",
        "embedding_dim = 256\n",
        "\n",
        "# Number of RNN units\n",
        "rnn_units = 1024"
      ],
      "metadata": {
        "id": "B2vdXQTuBMSN"
      },
      "execution_count": null,
      "outputs": []
    },
    {
      "cell_type": "code",
      "source": [
        "class MyModel(tf.keras.Model):\n",
        "  def __init__(self, vocab_size, embedding_dim, rnn_units):\n",
        "    super().__init__(self)\n",
        "    self.embedding = tf.keras.layers.Embedding(vocab_size, embedding_dim)\n",
        "    self.gru = tf.keras.layers.GRU(rnn_units,\n",
        "                                   return_sequences=True,\n",
        "                                   return_state=True)\n",
        "    self.dense = tf.keras.layers.Dense(vocab_size)\n",
        "\n",
        "  def call(self, inputs, states=None, return_state=False, training=False):\n",
        "    x = inputs\n",
        "    x = self.embedding(x, training=training)\n",
        "    if states is None:\n",
        "      states = self.gru.get_initial_state(x)\n",
        "    x, states = self.gru(x, initial_state=states, training=training)\n",
        "    x = self.dense(x, training=training)\n",
        "\n",
        "    if return_state:\n",
        "      return x, states\n",
        "    else:\n",
        "      return x"
      ],
      "metadata": {
        "id": "sUUjpQ50BNpv"
      },
      "execution_count": null,
      "outputs": []
    },
    {
      "cell_type": "code",
      "source": [
        "model = MyModel(\n",
        "    vocab_size=vocab_size,\n",
        "    embedding_dim=embedding_dim,\n",
        "    rnn_units=rnn_units)"
      ],
      "metadata": {
        "id": "3k-f10lnBP2j"
      },
      "execution_count": null,
      "outputs": []
    },
    {
      "cell_type": "markdown",
      "source": [
        "###Uji Model"
      ],
      "metadata": {
        "id": "adf5Ml-XBR1N"
      }
    },
    {
      "cell_type": "markdown",
      "source": [
        "pertama, cek bentuk dari output"
      ],
      "metadata": {
        "id": "o15oj_wzbSBH"
      }
    },
    {
      "cell_type": "code",
      "source": [
        "for input_example_batch, target_example_batch in dataset.take(1):\n",
        "    example_batch_predictions = model(input_example_batch)\n",
        "    print(example_batch_predictions.shape, \"# (batch_size, sequence_length, vocab_size)\")"
      ],
      "metadata": {
        "colab": {
          "base_uri": "https://localhost:8080/"
        },
        "id": "sXBgxXoKBTpE",
        "outputId": "e8b94ac3-d067-4c3a-b91d-3ffcbc310338"
      },
      "execution_count": null,
      "outputs": [
        {
          "output_type": "stream",
          "name": "stdout",
          "text": [
            "(64, 100, 66) # (batch_size, sequence_length, vocab_size)\n"
          ]
        }
      ]
    },
    {
      "cell_type": "markdown",
      "source": [
        "Dalam contoh di atas, panjang urutan masukan adalah 100 tetapi model dapat dijalankan pada masukan dengan panjang berapa pun:"
      ],
      "metadata": {
        "id": "LEADUAq1bT7F"
      }
    },
    {
      "cell_type": "code",
      "source": [
        "model.summary()"
      ],
      "metadata": {
        "colab": {
          "base_uri": "https://localhost:8080/"
        },
        "id": "tLCdl8EYBVDb",
        "outputId": "a25172bf-66f5-4c53-9359-11b3895cb8a9"
      },
      "execution_count": null,
      "outputs": [
        {
          "output_type": "stream",
          "name": "stdout",
          "text": [
            "Model: \"my_model_1\"\n",
            "_________________________________________________________________\n",
            " Layer (type)                Output Shape              Param #   \n",
            "=================================================================\n",
            " embedding_11 (Embedding)    multiple                  16896     \n",
            "                                                                 \n",
            " gru_7 (GRU)                 multiple                  3938304   \n",
            "                                                                 \n",
            " dense_15 (Dense)            multiple                  67650     \n",
            "                                                                 \n",
            "=================================================================\n",
            "Total params: 4022850 (15.35 MB)\n",
            "Trainable params: 4022850 (15.35 MB)\n",
            "Non-trainable params: 0 (0.00 Byte)\n",
            "_________________________________________________________________\n"
          ]
        }
      ]
    },
    {
      "cell_type": "markdown",
      "source": [
        "mengambil sampel dari distribusi keluaran, untuk mendapatkan indeks karakter aktual. Distribusi ini ditentukan oleh logit pada kosakata karakter."
      ],
      "metadata": {
        "id": "_B9DVaBabdVm"
      }
    },
    {
      "cell_type": "code",
      "source": [
        "sampled_indices = tf.random.categorical(example_batch_predictions[0], num_samples=1)\n",
        "sampled_indices =  tf.squeeze(sampled_indices, axis=-1).numpy()"
      ],
      "metadata": {
        "id": "gw6HgRnEBW2e"
      },
      "execution_count": null,
      "outputs": []
    },
    {
      "cell_type": "markdown",
      "source": [
        "Hal ini memberi kita, pada setiap langkah waktu, prediksi indeks karakter berikutnya:"
      ],
      "metadata": {
        "id": "leDmq9YDbfEk"
      }
    },
    {
      "cell_type": "code",
      "source": [
        "sampled_indices"
      ],
      "metadata": {
        "colab": {
          "base_uri": "https://localhost:8080/"
        },
        "id": "9M6DBrxKBcnj",
        "outputId": "fd7a328e-e1cf-4cae-9973-64d5928693aa"
      },
      "execution_count": null,
      "outputs": [
        {
          "output_type": "execute_result",
          "data": {
            "text/plain": [
              "array([39, 40, 18,  8, 46, 64, 38,  2, 59,  4, 18, 32, 15, 11, 63, 40,  4,\n",
              "       50, 49, 48, 27, 57, 63, 35, 25,  6, 28, 59, 33, 25, 34, 36, 57, 33,\n",
              "       64,  4, 65, 38, 61, 26, 49, 12, 56, 17, 22, 35, 10, 52,  4, 51, 34,\n",
              "       30, 63, 15, 13, 30, 64, 23, 63, 20,  5, 51, 32, 58, 21, 13,  3, 61,\n",
              "       33, 38,  1, 17, 65, 27, 36, 31, 46, 26,  1, 30, 64, 12,  0, 46, 14,\n",
              "        8, 60,  2, 50, 23, 60, 18,  4, 29, 18, 17, 54, 26,  3, 51])"
            ]
          },
          "metadata": {},
          "execution_count": 158
        }
      ]
    },
    {
      "cell_type": "markdown",
      "source": [
        "Dekode kode berikut untuk melihat teks yang diprediksi oleh model tidak terlatih ini:"
      ],
      "metadata": {
        "id": "vmOCCBnNbhZk"
      }
    },
    {
      "cell_type": "code",
      "source": [
        "print(\"Input:\\n\", text_from_ids(input_example_batch[0]).numpy())\n",
        "print()\n",
        "print(\"Next Char Predictions:\\n\", text_from_ids(sampled_indices).numpy())"
      ],
      "metadata": {
        "colab": {
          "base_uri": "https://localhost:8080/"
        },
        "id": "HSv9vltGBeBl",
        "outputId": "2baafaf4-4d1c-4958-dd1a-37f42bc24830"
      },
      "execution_count": null,
      "outputs": [
        {
          "output_type": "stream",
          "name": "stdout",
          "text": [
            "Input:\n",
            " b\"lly indeed to all estates,--\\nYet whether you accept our suit or no,\\nYour brother's son shall never r\"\n",
            "\n",
            "Next Char Predictions:\n",
            " b\"ZaE-gyY t$ESB:xa$kjiNrxVL'OtTLUWrTy$zYvMj;qDIV3m$lUQxB?QyJxG&lSsH?!vTY\\nDzNWRgM\\nQy;[UNK]gA-u kJuE$PEDoM!l\"\n"
          ]
        }
      ]
    },
    {
      "cell_type": "markdown",
      "source": [
        "###Train Model\n",
        "\n",
        "Berdasarkan status RNN sebelumnya, dan masukan langkah kali ini, prediksi kelas karakter berikutnya."
      ],
      "metadata": {
        "id": "h_Tz63E8BjUq"
      }
    },
    {
      "cell_type": "markdown",
      "source": [
        "Tambahan optimizer dan fungsi loss"
      ],
      "metadata": {
        "id": "RNtWcySqBnbq"
      }
    },
    {
      "cell_type": "markdown",
      "source": [
        "loss function tf.keras.losses.sparse_categorical_crossentropy standar berfungsi dalam kasus ini karena diterapkan di seluruh dimensi terakhir prediksi. Karena model Anda mengembalikan logits, Anda perlu mengatur flag from_logits."
      ],
      "metadata": {
        "id": "U-MO2hIubs01"
      }
    },
    {
      "cell_type": "code",
      "source": [
        "loss = tf.losses.SparseCategoricalCrossentropy(from_logits=True)"
      ],
      "metadata": {
        "id": "WJkOTfXfBl2F"
      },
      "execution_count": null,
      "outputs": []
    },
    {
      "cell_type": "code",
      "source": [
        "example_batch_mean_loss = loss(target_example_batch, example_batch_predictions)\n",
        "print(\"Prediction shape: \", example_batch_predictions.shape, \" # (batch_size, sequence_length, vocab_size)\")\n",
        "print(\"Mean loss:        \", example_batch_mean_loss)"
      ],
      "metadata": {
        "colab": {
          "base_uri": "https://localhost:8080/"
        },
        "id": "k0aNlXMMBr6K",
        "outputId": "fc2add49-d567-4b0a-b0a2-30b23403b7d6"
      },
      "execution_count": null,
      "outputs": [
        {
          "output_type": "stream",
          "name": "stdout",
          "text": [
            "Prediction shape:  (64, 100, 66)  # (batch_size, sequence_length, vocab_size)\n",
            "Mean loss:         tf.Tensor(4.189457, shape=(), dtype=float32)\n"
          ]
        }
      ]
    },
    {
      "cell_type": "markdown",
      "source": [
        "memeriksa bahwa eksponensial dari loss rata-rata harus kira-kira sama dengan ukuran kosakata. Loss yang jauh lebih tinggi berarti model tersebut yakin akan jawaban yang salah, dan memiliki inisialisasi yang buruk"
      ],
      "metadata": {
        "id": "ddmzHnyKb0lO"
      }
    },
    {
      "cell_type": "code",
      "source": [
        "tf.exp(example_batch_mean_loss).numpy()"
      ],
      "metadata": {
        "colab": {
          "base_uri": "https://localhost:8080/"
        },
        "id": "BNcoAWxdBu4-",
        "outputId": "0a15274b-ab3a-4405-8324-1f15d8c6f1f7"
      },
      "execution_count": null,
      "outputs": [
        {
          "output_type": "execute_result",
          "data": {
            "text/plain": [
              "65.986946"
            ]
          },
          "metadata": {},
          "execution_count": 162
        }
      ]
    },
    {
      "cell_type": "markdown",
      "source": [
        "Konfigurasikan prosedur pelatihan menggunakan metode tf.keras.Model.compile. Gunakan tf.keras.optimizers.Adam dengan argumen default dan fungsi loss."
      ],
      "metadata": {
        "id": "acXja3j0b4U-"
      }
    },
    {
      "cell_type": "code",
      "source": [
        "model.compile(optimizer='adam', loss=loss)"
      ],
      "metadata": {
        "id": "xvwXM4nTBvdZ"
      },
      "execution_count": null,
      "outputs": []
    },
    {
      "cell_type": "markdown",
      "source": [
        "**Konfigurasi Checkpoints**"
      ],
      "metadata": {
        "id": "I0i2RnN2BzF5"
      }
    },
    {
      "cell_type": "code",
      "source": [
        "# Directory where the checkpoints will be saved\n",
        "checkpoint_dir = './training_checkpoints'\n",
        "# Name of the checkpoint files\n",
        "checkpoint_prefix = os.path.join(checkpoint_dir, \"ckpt_{epoch}\")\n",
        "\n",
        "checkpoint_callback = tf.keras.callbacks.ModelCheckpoint(\n",
        "    filepath=checkpoint_prefix,\n",
        "    save_weights_only=True)"
      ],
      "metadata": {
        "id": "YsBLKzmYBxYO"
      },
      "execution_count": null,
      "outputs": []
    },
    {
      "cell_type": "markdown",
      "source": [
        "**Lakukan Proses Training**"
      ],
      "metadata": {
        "id": "I3PdYkaXB3Nz"
      }
    },
    {
      "cell_type": "markdown",
      "source": [
        "Gunakan tf.keras.callbacks.ModelCheckpoint untuk memastikan bahwa checkpoint disimpan selama pelatihan:"
      ],
      "metadata": {
        "id": "SyqXKEzBb6DM"
      }
    },
    {
      "cell_type": "code",
      "source": [
        "EPOCHS = 20"
      ],
      "metadata": {
        "id": "9GfCa5bOB4zx"
      },
      "execution_count": null,
      "outputs": []
    },
    {
      "cell_type": "code",
      "source": [
        "history = model.fit(dataset, epochs=EPOCHS, callbacks=[checkpoint_callback])"
      ],
      "metadata": {
        "colab": {
          "base_uri": "https://localhost:8080/"
        },
        "id": "mRQI90mMB7U-",
        "outputId": "c91a898b-e955-45aa-98c1-f92c1a13fec1"
      },
      "execution_count": null,
      "outputs": [
        {
          "output_type": "stream",
          "name": "stdout",
          "text": [
            "Epoch 1/20\n",
            "172/172 [==============================] - 15s 66ms/step - loss: 2.7458\n",
            "Epoch 2/20\n",
            "172/172 [==============================] - 14s 62ms/step - loss: 1.9999\n",
            "Epoch 3/20\n",
            "172/172 [==============================] - 13s 62ms/step - loss: 1.7270\n",
            "Epoch 4/20\n",
            "172/172 [==============================] - 14s 61ms/step - loss: 1.5657\n",
            "Epoch 5/20\n",
            "172/172 [==============================] - 12s 61ms/step - loss: 1.4645\n",
            "Epoch 6/20\n",
            "172/172 [==============================] - 12s 62ms/step - loss: 1.3963\n",
            "Epoch 7/20\n",
            "172/172 [==============================] - 12s 62ms/step - loss: 1.3430\n",
            "Epoch 8/20\n",
            "172/172 [==============================] - 12s 62ms/step - loss: 1.2980\n",
            "Epoch 9/20\n",
            "172/172 [==============================] - 12s 62ms/step - loss: 1.2569\n",
            "Epoch 10/20\n",
            "172/172 [==============================] - 12s 61ms/step - loss: 1.2181\n",
            "Epoch 11/20\n",
            "172/172 [==============================] - 12s 62ms/step - loss: 1.1792\n",
            "Epoch 12/20\n",
            "172/172 [==============================] - 12s 62ms/step - loss: 1.1398\n",
            "Epoch 13/20\n",
            "172/172 [==============================] - 12s 61ms/step - loss: 1.0975\n",
            "Epoch 14/20\n",
            "172/172 [==============================] - 12s 61ms/step - loss: 1.0534\n",
            "Epoch 15/20\n",
            "172/172 [==============================] - 12s 62ms/step - loss: 1.0063\n",
            "Epoch 16/20\n",
            "172/172 [==============================] - 12s 61ms/step - loss: 0.9582\n",
            "Epoch 17/20\n",
            "172/172 [==============================] - 12s 62ms/step - loss: 0.9066\n",
            "Epoch 18/20\n",
            "172/172 [==============================] - 13s 62ms/step - loss: 0.8559\n",
            "Epoch 19/20\n",
            "172/172 [==============================] - 12s 61ms/step - loss: 0.8020\n",
            "Epoch 20/20\n",
            "172/172 [==============================] - 12s 61ms/step - loss: 0.7540\n"
          ]
        }
      ]
    },
    {
      "cell_type": "markdown",
      "source": [
        "###Generate Teks"
      ],
      "metadata": {
        "id": "LMRE_8PaCAca"
      }
    },
    {
      "cell_type": "markdown",
      "source": [
        "Cara termudah untuk menghasilkan teks dengan model ini adalah dengan menjalankannya dalam loop, dan menyimpan status internal model saat Anda menjalankannya.\n",
        "\n",
        "![image.png](data:image/png;base64,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)"
      ],
      "metadata": {
        "id": "laYIMec5cNqo"
      }
    },
    {
      "cell_type": "markdown",
      "source": [
        "Berikut ini membuat prediksi satu langkah:"
      ],
      "metadata": {
        "id": "WarejRwccUVM"
      }
    },
    {
      "cell_type": "code",
      "source": [
        "class OneStep(tf.keras.Model):\n",
        "  def __init__(self, model, chars_from_ids, ids_from_chars, temperature=1.0):\n",
        "    super().__init__()\n",
        "    self.temperature = temperature\n",
        "    self.model = model\n",
        "    self.chars_from_ids = chars_from_ids\n",
        "    self.ids_from_chars = ids_from_chars\n",
        "\n",
        "    # Create a mask to prevent \"[UNK]\" from being generated.\n",
        "    skip_ids = self.ids_from_chars(['[UNK]'])[:, None]\n",
        "    sparse_mask = tf.SparseTensor(\n",
        "        # Put a -inf at each bad index.\n",
        "        values=[-float('inf')]*len(skip_ids),\n",
        "        indices=skip_ids,\n",
        "        # Match the shape to the vocabulary\n",
        "        dense_shape=[len(ids_from_chars.get_vocabulary())])\n",
        "    self.prediction_mask = tf.sparse.to_dense(sparse_mask)\n",
        "\n",
        "  @tf.function\n",
        "  def generate_one_step(self, inputs, states=None):\n",
        "    # Convert strings to token IDs.\n",
        "    input_chars = tf.strings.unicode_split(inputs, 'UTF-8')\n",
        "    input_ids = self.ids_from_chars(input_chars).to_tensor()\n",
        "\n",
        "    # Run the model.\n",
        "    # predicted_logits.shape is [batch, char, next_char_logits]\n",
        "    predicted_logits, states = self.model(inputs=input_ids, states=states,\n",
        "                                          return_state=True)\n",
        "    # Only use the last prediction.\n",
        "    predicted_logits = predicted_logits[:, -1, :]\n",
        "    predicted_logits = predicted_logits/self.temperature\n",
        "    # Apply the prediction mask: prevent \"[UNK]\" from being generated.\n",
        "    predicted_logits = predicted_logits + self.prediction_mask\n",
        "\n",
        "    # Sample the output logits to generate token IDs.\n",
        "    predicted_ids = tf.random.categorical(predicted_logits, num_samples=1)\n",
        "    predicted_ids = tf.squeeze(predicted_ids, axis=-1)\n",
        "\n",
        "    # Convert from token ids to characters\n",
        "    predicted_chars = self.chars_from_ids(predicted_ids)\n",
        "\n",
        "    # Return the characters and model state.\n",
        "    return predicted_chars, states"
      ],
      "metadata": {
        "id": "NnXtu3lRB-xZ"
      },
      "execution_count": null,
      "outputs": []
    },
    {
      "cell_type": "code",
      "source": [
        "one_step_model = OneStep(model, chars_from_ids, ids_from_chars)"
      ],
      "metadata": {
        "id": "XVwcSIiXCGYp"
      },
      "execution_count": null,
      "outputs": []
    },
    {
      "cell_type": "markdown",
      "source": [
        "Jalankan secara berulang untuk menghasilkan beberapa teks. Melihat teks yang dihasilkan, Anda akan melihat model mengetahui kapan harus menggunakan huruf besar, membuat paragraf, dan meniru kosakata menulis seperti Shakespeare. Karena sedikitnya jumlah epoch pelatihan, model belum belajar membentuk kalimat runtut."
      ],
      "metadata": {
        "id": "K0wI8z2NcZrd"
      }
    },
    {
      "cell_type": "code",
      "source": [
        "start = time.time()\n",
        "states = None\n",
        "next_char = tf.constant(['ROMEO:'])\n",
        "result = [next_char]\n",
        "\n",
        "for n in range(1000):\n",
        "  next_char, states = one_step_model.generate_one_step(next_char, states=states)\n",
        "  result.append(next_char)\n",
        "\n",
        "result = tf.strings.join(result)\n",
        "end = time.time()\n",
        "print(result[0].numpy().decode('utf-8'), '\\n\\n' + '_'*80)\n",
        "print('\\nRun time:', end - start)"
      ],
      "metadata": {
        "colab": {
          "base_uri": "https://localhost:8080/"
        },
        "id": "Yyc-50RECK0M",
        "outputId": "2108891f-7305-4486-917f-bca73a38d751"
      },
      "execution_count": null,
      "outputs": [
        {
          "output_type": "stream",
          "name": "stdout",
          "text": [
            "ROMEO:\n",
            "Do you between us!\n",
            "\n",
            "ALO:\n",
            "Stupper!\n",
            "\n",
            "HERMIONE:\n",
            "What?\n",
            "'Twas by nimble home, sir parson?\n",
            "\n",
            "Messenger:\n",
            "Yes, and my lord, it should be whipp'd in such\n",
            "anvocated stole? Buy follow'st think, is soonest please,\n",
            "I am deorled and still resign his curses.\n",
            "And how he found'st a kind tumbling thread?\n",
            "\n",
            "PARIS:\n",
            "You mistake, some harl; so were you so he hear hithers\n",
            "Made hig adoked and such a swelling grieving\n",
            "Mad what is hither have all unponsent,\n",
            "To say 'Will then the benefit there was a wive\n",
            "Equal scorn, with Geopla use,\n",
            "When I shall sloy your brother, God ye gods,\n",
            "In lamenyable breast whereop, Kate,\n",
            "Rather thank me on the villain's death.\n",
            "Had the very day she hangs upon me.\n",
            "\n",
            "KING EDWARD IV:\n",
            "Thy mother had a banish'd men of vast, and he is writ\n",
            "Shall fight in secret please to hide receives,\n",
            "And do it early beautio; and thou hast verrect me,\n",
            "who, if you lay would be on a lord, wherein\n",
            "You will not come from forth, consul!\n",
            "\n",
            "First Servingman:\n",
            "For he is call'd for's partine.\n",
            "\n",
            "RICHARD:\n",
            "ANGersonacle, that, \n",
            "\n",
            "________________________________________________________________________________\n",
            "\n",
            "Run time: 3.2839515209198\n"
          ]
        }
      ]
    },
    {
      "cell_type": "code",
      "source": [
        "start = time.time()\n",
        "states = None\n",
        "next_char = tf.constant(['ROMEO:', 'ROMEO:', 'ROMEO:', 'ROMEO:', 'ROMEO:'])\n",
        "result = [next_char]\n",
        "\n",
        "for n in range(1000):\n",
        "  next_char, states = one_step_model.generate_one_step(next_char, states=states)\n",
        "  result.append(next_char)\n",
        "\n",
        "result = tf.strings.join(result)\n",
        "end = time.time()\n",
        "print(result, '\\n\\n' + '_'*80)\n",
        "print('\\nRun time:', end - start)"
      ],
      "metadata": {
        "colab": {
          "base_uri": "https://localhost:8080/"
        },
        "id": "h8Jo6CtFCNG3",
        "outputId": "a1d2c725-9e15-4c55-8445-e49785bf15c4"
      },
      "execution_count": null,
      "outputs": [
        {
          "output_type": "stream",
          "name": "stdout",
          "text": [
            "tf.Tensor(\n",
            "[b\"ROMEO:\\nNow too make hearts may compeased.\\n\\nESCALUS:\\nGoodly, sir, this lady mooder hows:\\nGreat king indeed in a truth earth,\\nThat he needs dising it, 'tis well.\\n'Tis for the forest wife for Even when\\nI say to perceive my mind.\\nThese tastes--for her people break your hope,\\nVitting our harm in sighs and ease the heavensure\\nTo execute the child, has found me not,\\nThat raised unto them all condement, love,\\nAnd he will bear the swords of that kissess\\nDin realment to yourself.\\n\\nMIRANDA:\\nI know not. I saw her and his cut most liking\\npenulty.\\n\\nCAMILLO:\\nShe presents!\\nIs, that my sovereign liege approve.\\nShe is but from my neck, and little brow:\\nAnd so shall shearted with this king about!\\n\\nJULIET:\\nGone man! what's the very price that way\\n're still'd and will not pass.\\n\\nFLORIZEL:\\nThis was a good day's roy!\\n\\nPAULINA:\\nI am glad or born,\\nMaking him by the friends the party trial:\\nAnd as the rarityment teems unloads\\nmine honour, none but fools the friar in arms,\\nAnd I will pitiful from my life\\nEnsued and me\"\n",
            " b\"ROMEO:\\nGood-morrow, Clifford! had a traitor to't?\\n\\nFRIAR LAUREN:\\nEven in her tenched here, then, take him cold aid\\nOf Elbow friend, ake king in war.\\n\\nKING RICHARD II:\\nTalk not to me, that he should itle since\\nFrom all the city flowers at the lightning,\\nWhen every sons to see how tarry much be jucked\\ndalliess and thy soul's private.\\nWhat think you, let me give her tale?\\n\\nFirst Servingman:\\nWhat, myself unluckly babe, my lord?\\n\\nKING RICHARD III:\\nBlind in good time.\\n\\nPERDITA:\\nO lady, lords:\\nMy life is well: so you should keep me friend,\\nOne words?\\n\\nFirst Servingman:\\nNay, then e'er well debance,\\nAnd two cousins cheer's to point as I have spirit,\\nTo seed upon the sight as they were,\\nOr eye show me, and what the lightes hand\\nand doubt its: your suits be whips of her selding,\\nnay, in my part she is enterilent;\\nAnd I, being a soldier, blessed man!\\nWhat ever gentlewoman, or shall have lived\\nVouchsafe, upon my fighto take her rap\\nWe should have given again.\\n\\nFirst Senator:\\nTo tell my man, who's there?\\n\"\n",
            " b\"ROMEO:\\nWhat doth he so, him like a truth he hath cropp'd,\\nTo merry herein answer a thought would eacl,\\nNay, it shall not be\\nClarence cannot angels. True; let the dark night:\\nGo, abode the ground, the man that lies in arms\\nBe foul fallen for a Volsce, his state,\\nYou would muster me and married not another,\\nA loating victory bare and me;\\nThe would have leave sin coals the fall.\\n\\nShepherd:\\nPogs, breath, go thy comforts?\\n\\nABHORSON:\\nIn God's name, belike, unmistured;\\nAnd gid you better, ease, that thou best back's will,\\nWho lack of ceremont to sweet your special, takethy nest;\\nEncouse, dost thou fly there, bid you not call lack\\nThe imagined and full of woe.\\n\\nLEONTES:\\nIt cannot be dogs, and your fair prisoner sleep\\nThe merriment proclame with one may proud saints,\\nAnd blessed with the war, but one of the north,\\nThe moon of Rapar metres' habit,\\nThy unkindnces benefit in the mind of all admire\\nUnto the lord'st a tardy sir, and tears,\\nSo working with that London find thee set;\\nOr sound his severity s\"\n",
            " b\"ROMEO:\\nGentlemen, good night: let's go.\\n\\nAUFIDIUS:\\nNoble liege.\\n\\nFARD MARGARET:\\nIt was, good suit; I will obey'd and not must\\nFit for a fairer ready to courage fright.\\nO, let me marry her:\\nEven in that heaven will land you with\\nHis day of stronger sepulchre of the wind,\\nShowing, this back, which is the blushesy.\\nThy head, and there the king is Edward's;\\nand riggers themselves, that she is dasted gladom,\\nIn him tyrant breath that are the cause,\\nShould more apount me of the seas.\\n\\nLADY GREY:\\n'Tis but the gates of happiness comes to come upon the history\\nOf all proceedings, her be-upper heartial death:\\n'fore you along. Appear thus:\\nHe hath proclaim'd as well as is the storm, blush, found acquaint\\nYour charity, you'll be gone.\\nSirrah from this true, sir, to give us from his churchy.\\n\\nQUEEN:\\n'Tis bodom with the deed.\\n\\nCORIOLANUS:\\nAway, away;\\nYou'll resign until I see him say,\\nEven if angels here in Corioli's sorrow,\\nIncerts, careless, and their power.\\n\\nCOMINIUS:\\nWell, what, myself be else?' but b\"\n",
            " b\"ROMEO:\\nThese sorrows Romeo's, noisemond:\\n\\nPETRUCHIO:\\nAy, so much things to fight;\\nAnd stint thy lips, the first dot to be whipt: if the\\nship of King of Naples recreation.\\n\\nROMEO:\\nThey presently, yours.\\n\\nPARIS:\\nBroad should, turns us A brother Cruilin; for thou wilt perforce\\nTo Barnardine, you another fault:\\nAnd there his sword to Baptista Mineraid,\\nVive you anon the stitious wan, that it should\\nthey ranced by the wanton speaking,\\nThat is, are the model, and they still folly,\\nTo see you sopetual pray your passel:\\nAnd therefore Is! you are like to hard to come.\\n\\nBRUTUS:\\nWe know your willing saw so much\\nTo chide attend you at thy former daughter.\\nWhat good marriage He twan twelve fellow!\\nOr forth your cousin, weeping, naked,\\nBut, when he sputs: he's all the sight of mine\\nOr ho, is worthy bear; but never merry! what then?\\n\\nFirst Citizen:\\nFirst, hear me speak by weaghbous' faith, Earlandiness\\nWhen he would have a burthen tree,\\nBoth thou upon the shrike against their first shall Romeo\\nTrangling, o\"], shape=(5,), dtype=string) \n",
            "\n",
            "________________________________________________________________________________\n",
            "\n",
            "Run time: 3.383664608001709\n"
          ]
        }
      ]
    },
    {
      "cell_type": "markdown",
      "source": [
        "###Ekspor Model Generator"
      ],
      "metadata": {
        "id": "JAlGmU6NCPKT"
      }
    },
    {
      "cell_type": "markdown",
      "source": [
        "Model satu langkah ini dapat dengan mudah disimpan dan digunakan kembali, memungkinkan Anda menggunakannya di mana pun tf.saved_model diterima."
      ],
      "metadata": {
        "id": "7j7BGqWlchXl"
      }
    },
    {
      "cell_type": "code",
      "source": [
        "tf.saved_model.save(one_step_model, 'one_step')\n",
        "one_step_reloaded = tf.saved_model.load('one_step')"
      ],
      "metadata": {
        "colab": {
          "base_uri": "https://localhost:8080/"
        },
        "id": "ZlAWUnf9CRnZ",
        "outputId": "1223a4f6-53c4-49b0-b010-caa5bc2a82c5"
      },
      "execution_count": null,
      "outputs": [
        {
          "output_type": "stream",
          "name": "stderr",
          "text": [
            "WARNING:tensorflow:Skipping full serialization of Keras layer <__main__.OneStep object at 0x7ebc23def8e0>, because it is not built.\n",
            "WARNING:tensorflow:Model's `__init__()` arguments contain non-serializable objects. Please implement a `get_config()` method in the subclassed Model for proper saving and loading. Defaulting to empty config.\n",
            "WARNING:tensorflow:Model's `__init__()` arguments contain non-serializable objects. Please implement a `get_config()` method in the subclassed Model for proper saving and loading. Defaulting to empty config.\n"
          ]
        }
      ]
    },
    {
      "cell_type": "code",
      "source": [
        "states = None\n",
        "next_char = tf.constant(['ROMEO:'])\n",
        "result = [next_char]\n",
        "\n",
        "for n in range(100):\n",
        "  next_char, states = one_step_reloaded.generate_one_step(next_char, states=states)\n",
        "  result.append(next_char)\n",
        "\n",
        "print(tf.strings.join(result)[0].numpy().decode(\"utf-8\"))"
      ],
      "metadata": {
        "colab": {
          "base_uri": "https://localhost:8080/"
        },
        "id": "tXEQPT1yCSzJ",
        "outputId": "e9f9a89f-b675-47bd-9328-82236ac48b43"
      },
      "execution_count": null,
      "outputs": [
        {
          "output_type": "stream",
          "name": "stdout",
          "text": [
            "ROMEO:\n",
            "Blister us batf conserers in my mind;\n",
            "The loss of staturel, and fert it,\n",
            "One of our honour knows, y\n"
          ]
        }
      ]
    },
    {
      "cell_type": "markdown",
      "source": [
        "# **TUGAS PRAKTIKUM**"
      ],
      "metadata": {
        "id": "84oZLR3nl6GL"
      }
    },
    {
      "cell_type": "markdown",
      "source": [
        "1. Jalankan Model dan hitung loss dengan tf.GradientTape.\n",
        "2. Hitung update dan terapkan pada model dengan optimizer"
      ],
      "metadata": {
        "id": "3vqQWgK9cq91"
      }
    },
    {
      "cell_type": "code",
      "source": [
        "class CustomTraining(MyModel):\n",
        " @tf.function\n",
        " def train_step(self, inputs):\n",
        "      inputs, labels = inputs\n",
        "      with tf.GradientTape() as tape:\n",
        "        predictions = self(inputs, training=True)\n",
        "        loss = self.loss(labels, predictions)\n",
        "      grads = tape.gradient(loss, model.trainable_variables)\n",
        "      self.optimizer.apply_gradients(zip(grads, model.trainable_variables))\n",
        "\n",
        "      return {'loss': loss}"
      ],
      "metadata": {
        "id": "tbpo_MpAaKmp"
      },
      "execution_count": null,
      "outputs": []
    },
    {
      "cell_type": "markdown",
      "source": [
        "Kode diatas menerapkan train_step method sesuai dengan  Keras' train_step conventions. Ini opsional, tetapi memungkinkan Anda mengubah perilaku langkah pelatihan dan tetap menggunakan keras Model.compile and Model.fit methods."
      ],
      "metadata": {
        "id": "nwkRn1dacwSk"
      }
    },
    {
      "cell_type": "code",
      "source": [
        "model = CustomTraining(\n",
        "    vocab_size=len(ids_from_chars.get_vocabulary()),\n",
        "    embedding_dim=embedding_dim,\n",
        "    rnn_units=rnn_units)"
      ],
      "metadata": {
        "id": "O3wEkHdla3JV"
      },
      "execution_count": null,
      "outputs": []
    },
    {
      "cell_type": "code",
      "source": [
        "model.compile(optimizer = tf.keras.optimizers.Adam(),\n",
        "              loss=tf.keras.losses.SparseCategoricalCrossentropy(from_logits=True))"
      ],
      "metadata": {
        "id": "gdfMVr7gbTHg"
      },
      "execution_count": null,
      "outputs": []
    },
    {
      "cell_type": "code",
      "source": [
        "model.fit(dataset, epochs=1)"
      ],
      "metadata": {
        "colab": {
          "base_uri": "https://localhost:8080/"
        },
        "id": "jhKfFxtck98n",
        "outputId": "84cd857b-56b6-4459-a43c-367dc7e845c3"
      },
      "execution_count": null,
      "outputs": [
        {
          "output_type": "stream",
          "name": "stdout",
          "text": [
            "172/172 [==============================] - 16s 63ms/step - loss: 2.7348\n"
          ]
        },
        {
          "output_type": "execute_result",
          "data": {
            "text/plain": [
              "<keras.src.callbacks.History at 0x7ebc23d8fa30>"
            ]
          },
          "metadata": {},
          "execution_count": 176
        }
      ]
    },
    {
      "cell_type": "markdown",
      "source": [
        "Atau jika ingin lebih mengetahui dalamnya, kita bisa membuat custom training loop sendiri:"
      ],
      "metadata": {
        "id": "Jj37TLBJczXJ"
      }
    },
    {
      "cell_type": "code",
      "source": [
        "EPOCHS = 10\n",
        "\n",
        "mean = tf.metrics.Mean()\n",
        "\n",
        "for epoch in range(EPOCHS):\n",
        "    start = time.time()\n",
        "\n",
        "    mean.reset_states()\n",
        "    for (batch_n, (inp, target)) in enumerate(dataset):\n",
        "      logs = model.train_step([inp, target])\n",
        "      mean.update_state(logs['loss'])\n",
        "\n",
        "      if batch_n % 50 == 0:\n",
        "         template = f\"Epoch {epoch+1} Batch {batch_n} Loss {logs['loss']:.4f}\"\n",
        "         print(template)\n",
        "\n",
        " # saving (checkpoint) the model every 5 epochs\n",
        "      if (epoch + 1) % 5 == 0:\n",
        "         model.save_weights(checkpoint_prefix.format(epoch=epoch))\n",
        "\n",
        "    print()\n",
        "    print(f'Epoch {epoch+1} Loss: {mean.result().numpy():.4f}')\n",
        "    print(f'Time taken for 1 epoch {time.time() - start:.2f} sec')\n",
        "    print(\"_\"*80)\n",
        "\n",
        "model.save_weights(checkpoint_prefix.format(epoch=epoch))"
      ],
      "metadata": {
        "id": "o-H-gwjJbXf5",
        "colab": {
          "base_uri": "https://localhost:8080/"
        },
        "outputId": "dfd00676-1a02-42ba-c269-7172d5c3d174"
      },
      "execution_count": null,
      "outputs": [
        {
          "output_type": "stream",
          "name": "stdout",
          "text": [
            "Epoch 1 Batch 0 Loss 2.1919\n",
            "Epoch 1 Batch 50 Loss 2.0572\n",
            "Epoch 1 Batch 100 Loss 1.9486\n",
            "Epoch 1 Batch 150 Loss 1.8605\n",
            "\n",
            "Epoch 1 Loss: 2.0002\n",
            "Time taken for 1 epoch 13.45 sec\n",
            "________________________________________________________________________________\n",
            "Epoch 2 Batch 0 Loss 1.8112\n",
            "Epoch 2 Batch 50 Loss 1.8218\n",
            "Epoch 2 Batch 100 Loss 1.7476\n",
            "Epoch 2 Batch 150 Loss 1.6371\n",
            "\n",
            "Epoch 2 Loss: 1.7173\n",
            "Time taken for 1 epoch 12.27 sec\n",
            "________________________________________________________________________________\n",
            "Epoch 3 Batch 0 Loss 1.5860\n",
            "Epoch 3 Batch 50 Loss 1.5454\n",
            "Epoch 3 Batch 100 Loss 1.5495\n",
            "Epoch 3 Batch 150 Loss 1.5537\n",
            "\n",
            "Epoch 3 Loss: 1.5521\n",
            "Time taken for 1 epoch 12.19 sec\n",
            "________________________________________________________________________________\n",
            "Epoch 4 Batch 0 Loss 1.4577\n",
            "Epoch 4 Batch 50 Loss 1.4496\n",
            "Epoch 4 Batch 100 Loss 1.4229\n",
            "Epoch 4 Batch 150 Loss 1.4151\n",
            "\n",
            "Epoch 4 Loss: 1.4515\n",
            "Time taken for 1 epoch 11.81 sec\n",
            "________________________________________________________________________________\n",
            "Epoch 5 Batch 0 Loss 1.4222\n",
            "Epoch 5 Batch 50 Loss 1.3875\n",
            "Epoch 5 Batch 100 Loss 1.3891\n",
            "Epoch 5 Batch 150 Loss 1.3523\n",
            "\n",
            "Epoch 5 Loss: 1.3835\n",
            "Time taken for 1 epoch 47.43 sec\n",
            "________________________________________________________________________________\n",
            "Epoch 6 Batch 0 Loss 1.3611\n",
            "Epoch 6 Batch 50 Loss 1.3519\n",
            "Epoch 6 Batch 100 Loss 1.3209\n",
            "Epoch 6 Batch 150 Loss 1.3551\n",
            "\n",
            "Epoch 6 Loss: 1.3310\n",
            "Time taken for 1 epoch 11.68 sec\n",
            "________________________________________________________________________________\n",
            "Epoch 7 Batch 0 Loss 1.2472\n",
            "Epoch 7 Batch 50 Loss 1.2765\n",
            "Epoch 7 Batch 100 Loss 1.2673\n",
            "Epoch 7 Batch 150 Loss 1.2695\n",
            "\n",
            "Epoch 7 Loss: 1.2849\n",
            "Time taken for 1 epoch 12.04 sec\n",
            "________________________________________________________________________________\n",
            "Epoch 8 Batch 0 Loss 1.2319\n",
            "Epoch 8 Batch 50 Loss 1.2472\n",
            "Epoch 8 Batch 100 Loss 1.2225\n",
            "Epoch 8 Batch 150 Loss 1.2565\n",
            "\n",
            "Epoch 8 Loss: 1.2432\n",
            "Time taken for 1 epoch 12.10 sec\n",
            "________________________________________________________________________________\n",
            "Epoch 9 Batch 0 Loss 1.1736\n",
            "Epoch 9 Batch 50 Loss 1.1950\n",
            "Epoch 9 Batch 100 Loss 1.1949\n",
            "Epoch 9 Batch 150 Loss 1.2218\n",
            "\n",
            "Epoch 9 Loss: 1.2044\n",
            "Time taken for 1 epoch 12.13 sec\n",
            "________________________________________________________________________________\n",
            "Epoch 10 Batch 0 Loss 1.1528\n",
            "Epoch 10 Batch 50 Loss 1.1480\n",
            "Epoch 10 Batch 100 Loss 1.1877\n",
            "Epoch 10 Batch 150 Loss 1.1748\n",
            "\n",
            "Epoch 10 Loss: 1.1647\n",
            "Time taken for 1 epoch 40.62 sec\n",
            "________________________________________________________________________________\n"
          ]
        }
      ]
    }
  ],
  "metadata": {
    "colab": {
      "provenance": [],
      "gpuType": "T4",
      "include_colab_link": true
    },
    "kernelspec": {
      "display_name": "Python 3",
      "name": "python3"
    },
    "language_info": {
      "name": "python"
    },
    "accelerator": "GPU"
  },
  "nbformat": 4,
  "nbformat_minor": 0
}